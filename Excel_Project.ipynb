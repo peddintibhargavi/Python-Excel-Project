{
  "nbformat": 4,
  "nbformat_minor": 0,
  "metadata": {
    "colab": {
      "provenance": [],
      "authorship_tag": "ABX9TyM1Mk97NBz7v90pRFnMwtcv",
      "include_colab_link": true
    },
    "kernelspec": {
      "name": "python3",
      "display_name": "Python 3"
    },
    "language_info": {
      "name": "python"
    }
  },
  "cells": [
    {
      "cell_type": "markdown",
      "metadata": {
        "id": "view-in-github",
        "colab_type": "text"
      },
      "source": [
        "<a href=\"https://colab.research.google.com/github/peddintibhargavi/Python-Excel-project/blob/main/Excel_Project.ipynb\" target=\"_parent\"><img src=\"https://colab.research.google.com/assets/colab-badge.svg\" alt=\"Open In Colab\"/></a>"
      ]
    },
    {
      "cell_type": "code",
      "execution_count": 2,
      "metadata": {
        "colab": {
          "base_uri": "https://localhost:8080/"
        },
        "id": "Ug-yTMn5yD3_",
        "outputId": "4fa42c69-f30c-4c2e-f8b9-126c6ed7a621"
      },
      "outputs": [
        {
          "name": "stdout",
          "output_type": "stream",
          "text": [
            "Enter the name: Pavani\n",
            "Enter the age: 19\n",
            "Enter the branch: CSM\n",
            "Enter roll number21B21A4221\n",
            "Do you want to enter more data? (Y/N): N\n"
          ]
        }
      ],
      "source": [
        "import openpyxl\n",
        "\n",
        "def push_data_to_excel():\n",
        "    # Open the workbook\n",
        "    wb = openpyxl.load_workbook('/content/data.xlsx')\n",
        "\n",
        "    # Get the active sheet\n",
        "    ws = wb.active\n",
        "\n",
        "    # Continue looping until the user enters 'quit'\n",
        "    while True:\n",
        "        # Get the user input\n",
        "        name = input(\"Enter the name: \")\n",
        "        age = input(\"Enter the age: \")\n",
        "        branch = input(\"Enter the branch: \")\n",
        "        roll = input(\"Enter roll number\")\n",
        "\n",
        "\n",
        "        # Add the user input to the sheet\n",
        "        ws['A1'] = 'Name'\n",
        "        ws['B1'] = 'Age'\n",
        "        ws['C1'] = 'Branch'\n",
        "        ws['D1'] = 'Roll Number'\n",
        "        ws.append([name, age,branch,roll])\n",
        "\n",
        "        # Ask the user if they want to enter more data\n",
        "        answer = input(\"Do you want to enter more data? (Y/N): \")\n",
        "        if answer == 'N' or answer == 'n' :\n",
        "            break\n",
        "\n",
        "    # Save the workbook\n",
        "    wb.save('/content/data.xlsx')\n",
        "\n",
        "if __name__ == '__main__':\n",
        "    push_data_to_excel()\n"
      ]
    },
    {
      "cell_type": "code",
      "source": [],
      "metadata": {
        "id": "ook7aB_NyKCU"
      },
      "execution_count": null,
      "outputs": []
    }
  ]
}